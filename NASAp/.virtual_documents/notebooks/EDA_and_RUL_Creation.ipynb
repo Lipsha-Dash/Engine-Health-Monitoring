import pandas as pd

cols = ['engine_id', 'cycle'] + \
       [f'op_setting_{i}' for i in range(1, 4)] + \
       [f'sensor_measurement_{i}' for i in range(1, 22)]

df = pd.read_csv('../data/train_FD001.txt', sep=' ', header=None)
df.drop(columns=[26, 27], inplace=True)  # drop blank columns at the end
df.columns = cols

df.head()


# Calculate max cycle for each engine
max_cycle_df = df.groupby('engine_id')['cycle'].max().reset_index()
max_cycle_df.columns = ['engine_id', 'max_cycle']

# Merge with original dataframe
df = df.merge(max_cycle_df, on='engine_id')
df['RUL'] = df['max_cycle'] - df['cycle']
df.drop(columns=['max_cycle'], inplace=True)

# Preview the result
df[['engine_id', 'cycle', 'RUL']].head()



import matplotlib.pyplot as plt

# Pick first 5 engines
sample_engines = df['engine_id'].unique()[:5]

# Plot RUL vs cycle for each engine
for eid in sample_engines:
    edata = df[df['engine_id'] == eid]
    plt.plot(edata['cycle'], edata['RUL'], label=f'Engine {eid}')

plt.xlabel('Cycle')
plt.ylabel('Remaining Useful Life')
plt.title('RUL Over Time (Sample Engines)')
plt.legend()
plt.grid(True)
plt.show()



sensor_cols = [col for col in df.columns if 'sensor' in col]
print(sensor_cols)



import seaborn as sns
import matplotlib.pyplot as plt

plt.figure(figsize=(14, 10))
corr = df[sensor_cols].corr()
sns.heatmap(corr, annot=False, cmap='coolwarm', linewidths=0.5)
plt.title("Sensor Correlation Heatmap")
plt.show()



df[sensor_cols].describe().T[['mean', 'std']].sort_values('std')



low_variance_sensors = ['sensor_measurement_1', 'sensor_measurement_5', 'sensor_measurement_10']
df.drop(columns=low_variance_sensors, inplace=True)



sensor_cols = [col for col in df.columns if 'sensor' in col and col not in low_variance_sensors]
print(sensor_cols)



df[['engine_id', 'cycle', 'RUL'] + sensor_cols].head()



df.to_csv('../data/train_FD001_cleaned.csv', index=False)



