import pandas as pd

# Step 1: Load the data without headers
df = pd.read_csv("C:\\Job\\NASAp\\data\\train_FD001.txt", sep=r"\s+", header=None)


# Step 2: Define correct column names based on CMAPSS format
columns = ['unit', 'time', 'operational_setting_1', 'operational_setting_2', 'operational_setting_3'] + \
          [f'sensor_{i}' for i in range(1, 22)]  # sensors 1 to 21
# Confirm length
assert len(columns) == df.shape[1], f"Expected {len(columns)} columns but got {df.shape[1]}"

df.columns = columns



print(df.columns.tolist())


import pandas as pd

df = pd.read_csv('../data/train_FD001_cleaned.csv')
df.head()



sensor_cols = [col for col in df.columns if 'sensor' in col]



import numpy as np

engine_ids = df['engine_id'].unique()
np.random.seed(42)
np.random.shuffle(engine_ids)

split_idx = int(len(engine_ids) * 0.8)
train_ids = engine_ids[:split_idx]
test_ids = engine_ids[split_idx:]

df_train = df[df['engine_id'].isin(train_ids)].reset_index(drop=True)
df_test = df[df['engine_id'].isin(test_ids)].reset_index(drop=True)



rolling_window = 5

for col in sensor_cols:
    df_train[f'{col}_rollmean'] = df_train.groupby('engine_id')[col].transform(lambda x: x.rolling(rolling_window).mean())
    df_test[f'{col}_rollmean'] = df_test.groupby('engine_id')[col].transform(lambda x: x.rolling(rolling_window).mean())



df_train.dropna(inplace=True)
df_test.dropna(inplace=True)



from sklearn.ensemble import RandomForestRegressor
from sklearn.metrics import mean_absolute_error, mean_squared_error
import matplotlib.pyplot as plt
import numpy as np

feature_cols = [col for col in df_train.columns if 'sensor' in col]

X_train = df_train[feature_cols]
y_train = df_train['RUL']

X_test = df_test[feature_cols]
y_test = df_test['RUL']

rf_model = RandomForestRegressor(n_estimators=100, random_state=42)
rf_model.fit(X_train, y_train)

y_rf_pred = rf_model.predict(X_test)



mae = mean_absolute_error(y_test, y_rf_pred)
rmse = np.sqrt(mean_squared_error(y_test, y_rf_pred))

print(f"Engine-wise RF MAE: {mae:.2f}")
print(f"Engine-wise RF RMSE: {rmse:.2f}")

plt.figure(figsize=(10, 5))
plt.plot(y_test.values[:100], label='Actual')
plt.plot(y_rf_pred[:100], label='Predicted')
plt.title('Engine-wise RUL Prediction (Random Forest)')
plt.xlabel('Sample Index')
plt.ylabel('Remaining Useful Life')
plt.legend()
plt.grid(True)
plt.show()



print(df.shape)  # Confirm data loaded
print(df_train.shape, df_test.shape)  # Check split sizes
print(sensor_cols)  # Check retained sensors
print(f"MAE: {mae:.2f}, RMSE: {rmse:.2f}")  # Final results



import pandas as pd
import numpy as np

df = pd.read_csv('../data/train_FD001_cleaned.csv')
sensor_cols = [col for col in df.columns if 'sensor' in col]



engine_ids = df['engine_id'].unique()
np.random.seed(42)
np.random.shuffle(engine_ids)

split_idx = int(len(engine_ids) * 0.8)
train_ids = engine_ids[:split_idx]
test_ids = engine_ids[split_idx:]

df_train = df[df['engine_id'].isin(train_ids)].reset_index(drop=True)
df_test = df[df['engine_id'].isin(test_ids)].reset_index(drop=True)



for col in sensor_cols:
    df_train[f'{col}_delta'] = df_train.groupby('engine_id')[col].diff()
    df_test[f'{col}_delta'] = df_test.groupby('engine_id')[col].diff()



df_train.dropna(inplace=True)
df_test.dropna(inplace=True)


feature_cols = [col for col in df_train.columns if 'sensor' in col]


from sklearn.ensemble import RandomForestRegressor
from sklearn.metrics import mean_absolute_error, mean_squared_error
import matplotlib.pyplot as plt

X_train = df_train[feature_cols]
y_train = df_train['RUL']

X_test = df_test[feature_cols]
y_test = df_test['RUL']

rf_model = RandomForestRegressor(n_estimators=100, random_state=42)
rf_model.fit(X_train, y_train)

y_rf_pred = rf_model.predict(X_test)


mae = mean_absolute_error(y_test, y_rf_pred)
rmse = np.sqrt(mean_squared_error(y_test, y_rf_pred))

print(f"Delta + Rolling MAE: {mae:.2f}")
print(f"Delta + Rolling RMSE: {rmse:.2f}")


plt.plot(y_test.values[:100], label='Actual')
plt.plot(y_rf_pred[:100], label='Predicted')
plt.title('Engine-wise RUL Prediction (With Deltas + Rolling)')
plt.xlabel('Sample Index')
plt.ylabel('Remaining Useful Life')
plt.legend()
plt.grid(True)
plt.show()


print("Columns in df:")
print(df.columns.tolist())

print("\nSample data:")
print(df[['sensor_measurement_2']].head(10))

print("\nCheck if 'sensor_measurement_2_ma' exists:")
print('sensor_measurement_2_ma' in df.columns)

print("\nAny nulls in sensor_measurement_2?")
print(df['sensor_measurement_2'].isnull().sum())



df['sensor_measurement_2_ma'] = df['sensor_measurement_2'].rolling(window=5).mean()
df['sensor_measurement_2_ema'] = df['sensor_measurement_2'].ewm(span=5, adjust=False).mean()


df['sensor_measurement_2_diff'] = df['sensor_measurement_2'].diff()


# Use consistent naming based on your updated style
sensor_col = 'sensor_measurement_2'

df['sensor_measurement_2_ma'] = df[sensor_col].rolling(window=5, min_periods=1).mean()
df['sensor_measurement_2_ema'] = df[sensor_col].ewm(span=5, adjust=False).mean()
df['sensor_measurement_2_diff'] = df[sensor_col].diff()


import matplotlib.pyplot as plt

unit_id = 1
df_unit = df[df['engine_id'] == unit_id]

plt.figure(figsize=(12, 6))
plt.plot(df_unit['cycle'], df_unit['sensor_measurement_2'], label='Original', alpha=0.5)
plt.plot(df_unit['cycle'], df_unit['sensor_measurement_2_ma'], label='Moving Average', linewidth=2)
plt.plot(df_unit['cycle'], df_unit['sensor_measurement_2_ema'], label='Exponential MA', linewidth=2)
plt.title(f'Sensor 2 Smoothing for Engine {unit_id}')
plt.xlabel('Time Cycles')
plt.ylabel('Sensor Value')
plt.legend()
plt.grid(True)
plt.tight_layout()
plt.show()



from scipy.stats import zscore

# Calculate z-score for the sensor column
df['sensor_measurement_2_z'] = zscore(df['sensor_measurement_2'])

# Flag anomalies where z-score > 3 or < -3
df['anomaly'] = (df['sensor_measurement_2_z'].abs() > 3).astype(int)



unit_id = 1
df_unit = df[df['engine_id'] == unit_id]

plt.figure(figsize=(12, 6))
plt.plot(df_unit['cycle'], df_unit['sensor_measurement_2'], label='Sensor', alpha=0.5)
plt.scatter(
    df_unit[df_unit['anomaly'] == 1]['cycle'],
    df_unit[df_unit['anomaly'] == 1]['sensor_measurement_2'],
    color='red', marker='x', label='Anomaly'
)
plt.title(f'Z-Score Anomaly Detection for Engine {unit_id}')
plt.xlabel('Time Cycles')
plt.ylabel('Sensor Value')
plt.legend()
plt.grid(True)
plt.tight_layout()
plt.show()



# Drop NaNs from diff column
features = ['sensor_measurement_2', 'sensor_measurement_2_ma', 'sensor_measurement_2_diff']
df_model = df.dropna(subset=features + ['anomaly'])

X = df_model[features]
y = df_model['anomaly']



from sklearn.model_selection import train_test_split

X_train, X_test, y_train, y_test = train_test_split(
    X, y, test_size=0.2, random_state=42, stratify=y
)



from sklearn.ensemble import RandomForestClassifier
from sklearn.metrics import classification_report, confusion_matrix

clf = RandomForestClassifier(random_state=42)
clf.fit(X_train, y_train)

y_pred = clf.predict(X_test)

print(confusion_matrix(y_test, y_pred))
print(classification_report(y_test, y_pred))



# Safe version that avoids SettingWithCopyWarning
df_model = df.dropna(subset=features + ['anomaly']).copy()

# Now it's safe to assign new columns
df_model['predicted_anomaly'] = clf.predict(df_model[features])

df_unit = df_model[df_model['engine_id'] == 1]

plt.figure(figsize=(12, 6))
plt.plot(df_unit['cycle'], df_unit['sensor_measurement_2'], label='Sensor')
plt.scatter(df_unit[df_unit['predicted_anomaly'] == 1]['cycle'],
            df_unit[df_unit['predicted_anomaly'] == 1]['sensor_measurement_2'],
            color='orange', label='Predicted Anomaly', marker='x')
plt.title('Predicted Anomalies for Engine 1')
plt.xlabel('Cycle')
plt.ylabel('Sensor Value')
plt.legend()
plt.grid(True)
plt.tight_layout()
plt.show()



df.to_csv("nasa_processed.csv", index=False)




